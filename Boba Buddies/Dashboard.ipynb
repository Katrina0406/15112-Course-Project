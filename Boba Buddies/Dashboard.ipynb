{
 "cells": [
  {
   "cell_type": "code",
   "execution_count": null,
   "metadata": {},
   "outputs": [
    {
     "name": "stdout",
     "output_type": "stream",
     "text": [
      "Loaded cmu_112_graphics version 0.8.6 (last updated 2020-02-24)\n"
     ]
    },
    {
     "name": "stderr",
     "output_type": "stream",
     "text": [
      "[nltk_data] Downloading package stopwords to /Users/erica/nltk_data...\n",
      "[nltk_data]   Package stopwords is already up-to-date!\n",
      "[nltk_data] Downloading package punkt to /Users/erica/nltk_data...\n",
      "[nltk_data]   Package punkt is already up-to-date!\n",
      "[nltk_data] Downloading package wordnet to /Users/erica/nltk_data...\n",
      "[nltk_data]   Package wordnet is already up-to-date!\n"
     ]
    },
    {
     "name": "stdin",
     "output_type": "stream",
     "text": [
      "Paste diary entry:  from tkinter import *\n"
     ]
    }
   ],
   "source": [
    "import tkinter as tk\n",
    "from cmu_112_graphics import *\n",
    "from drawBoba import *\n",
    "from getbobafromtext import *\n",
    "from PIL import Image, ImageTk\n",
    "\n",
    "\n",
    "inputtext = input(\"Paste diary entry: \")    \n",
    "\n",
    "\n",
    "def appStarted(app):\n",
    "    app.diaryH = 60\n",
    "    app.diaryW = 120\n",
    "    app.writeDiary = False\n",
    "    app.getBoba = False\n",
    "\n",
    "def mousePressed(app, event):\n",
    "    # if clicking on new diary button\n",
    "    if (app.width-event.x <= app.diaryW \n",
    "    and abs(app.height/2-10-event.y) <= app.diaryH/2):\n",
    "        if app.writeDiary:\n",
    "            app.getBoba = True\n",
    "            app.writeDiary = False\n",
    "        else:\n",
    "            app.writeDiary = True           \n",
    "            \n",
    "def writeDiary(app, canvas):\n",
    "    frame = Frame(canvas, height = 100, width = 200)\n",
    "    frame.pack(padx=125, pady=100)\n",
    "\n",
    "    # text window\n",
    "    text=Text(frame, width=200, height=150, font='Arial 18', bg='#FFCF0B',\\\n",
    "                spacing1=5, spacing2=5, wrap=WORD, highlightbackground = \"black\")\n",
    "    text.pack(side=LEFT,fill=Y)\n",
    "    # Scroll bar\n",
    "    scroll=tk.Scrollbar(frame, command=text.yview)\n",
    "    scroll.pack(side=RIGHT,fill=Y)\n",
    "    # connect scroll bar to text window\n",
    "    scroll.config(command=text.yview)\n",
    "    text.config(yscrollcommand=scroll.set)\n",
    "    text.insert(END, f\"{inputtext}\")\n",
    "    text.config(state = \"disabled\")\n",
    "\n",
    "# Calls on function from drawBoba.py\n",
    "def returnBoba(app, canvas):\n",
    "    inputText = inputtext\n",
    "    result = te.get_emotion(inputText)\n",
    "    average = teaAverage(result)\n",
    "    flavor, colorForTea = returnFlavor(average)\n",
    "    toppingType, colorForTopping = returnToppings(result)\n",
    "    colorForStraw = \"black\"\n",
    "    drawCup(app, canvas, 0, 50, 100, 150, colorForStraw, colorForTea, colorForTopping, toppingType)\n",
    "    drawCup(app, canvas, 700, 50, 800, 150, colorForStraw, colorForTea, colorForTopping, toppingType)\n",
    "    canvas.create_text(410, 60, text = f\"{flavor} with {toppingType}\", font = \"Arial 14\")\n",
    "\n",
    "def drawDashboard(app, canvas):\n",
    "    if app.getBoba:\n",
    "        pic = ImageTk.PhotoImage(Image.open(\"dashboardV3.png\"))\n",
    "        canvas.create_image(0, 0, anchor = NW, image = pic)\n",
    "        returnBoba(app, canvas)\n",
    "    elif app.writeDiary:\n",
    "        pic = ImageTk.PhotoImage(Image.open(\"dashboardV2.png\"))\n",
    "        canvas.create_image(0, 0, anchor = NW, image = pic)\n",
    "        writeDiary(app, canvas)\n",
    "    else:\n",
    "        pic = ImageTk.PhotoImage(Image.open(\"dashboardV1.png\"))\n",
    "        canvas.create_image(0, 0, anchor = NW, image = pic)\n",
    "\n",
    "def redrawAll(app, canvas):\n",
    "\tdrawDashboard(app, canvas)\n",
    "\t\n",
    "runApp(width=800, height=600)\n"
   ]
  },
  {
   "cell_type": "code",
   "execution_count": null,
   "metadata": {},
   "outputs": [],
   "source": []
  }
 ],
 "metadata": {
  "kernelspec": {
   "display_name": "Python 3",
   "language": "python",
   "name": "python3"
  },
  "language_info": {
   "codemirror_mode": {
    "name": "ipython",
    "version": 3
   },
   "file_extension": ".py",
   "mimetype": "text/x-python",
   "name": "python",
   "nbconvert_exporter": "python",
   "pygments_lexer": "ipython3",
   "version": "3.7.6"
  }
 },
 "nbformat": 4,
 "nbformat_minor": 4
}
